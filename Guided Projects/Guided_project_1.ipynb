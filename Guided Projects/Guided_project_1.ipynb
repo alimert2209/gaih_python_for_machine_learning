{
 "cells": [
  {
   "cell_type": "markdown",
   "metadata": {
    "id": "VMuUK0ap_bRD"
   },
   "source": [
    "# Chapter 1\n",
    "### Your first day at your new job 👩‍💻👨‍💻\n",
    "\n",
    "You are starting a new job as a junior software developer in an IT company. \n",
    "\n",
    "The company’s HR department asks you to fill out a form, so you start by assigning your personal information to corresponding variables.\n",
    "\n",
    "📌 Create a variable for your name, surname, age, ID number, place of residence, to specify if you have active health insurance or not, and lastly one for specifying your nationality.\n"
   ]
  },
  {
   "cell_type": "code",
   "execution_count": 1,
   "metadata": {
    "id": "OPLhhc2Sp-D0"
   },
   "outputs": [],
   "source": [
    "#Please assign your personal information to variables\n",
    "my_name = \"Ali Mert\"\n",
    "my_surname = \"Kocaman\"\n",
    "my_age = 21\n",
    "ID_number = 123456789\n",
    "where_i_live = \"Ankara\"\n",
    "health_insurance = True\n",
    "my_nationality = \"Turkish\""
   ]
  },
  {
   "cell_type": "markdown",
   "metadata": {
    "id": "3zaUlxwcp-D0"
   },
   "source": [
    "### Meet And Greet\n",
    "Introduce yourself to your new co-workers.\n",
    "\n",
    "📌 Use a f-string to print \"My name is Joey Tribbiani I am 25 years old and I live in London”."
   ]
  },
  {
   "cell_type": "code",
   "execution_count": 2,
   "metadata": {
    "id": "XNuh5_2WXwvg"
   },
   "outputs": [
    {
     "name": "stdout",
     "output_type": "stream",
     "text": [
      "My name is Ali Mert Kocaman, I am 21 years old and I live in Ankara.\n"
     ]
    }
   ],
   "source": [
    "#Write a sentence using the print function to describe yourself using the variables above in the correct data type\n",
    "print(f\"My name is {my_name} {my_surname}, I am {my_age} years old and I live in {where_i_live}.\")"
   ]
  },
  {
   "cell_type": "markdown",
   "metadata": {
    "id": "EEL9To4ip-D1"
   },
   "source": [
    "### Equipment starter pack\n",
    "The HR department asks you to list the items you would need to improve your work efficiency\n",
    "\n",
    "Mandatory:\n",
    "* Laptop\n",
    "* Headset\n",
    "* Second monitor\n",
    "\n",
    "Optional:\n",
    "* Mousepad\n",
    "* USB drive\n",
    "* External drive\n",
    "\n",
    "\n",
    "📌 Create a shopping list that contains items above and print it."
   ]
  },
  {
   "cell_type": "code",
   "execution_count": 3,
   "metadata": {
    "id": "fPFBLDyqp-D2"
   },
   "outputs": [],
   "source": [
    "#Create the item_list\n",
    "item_list = [\n",
    "    \"Laptop\", \n",
    "    \"Headset\", \n",
    "    \"Second Monitor\", \n",
    "    \"Mousepad\", \n",
    "    \"External Drive\", \n",
    "    \"USB Drive\"\n",
    "]"
   ]
  },
  {
   "cell_type": "code",
   "execution_count": 4,
   "metadata": {
    "id": "358R_CN5U2-J"
   },
   "outputs": [
    {
     "name": "stdout",
     "output_type": "stream",
     "text": [
      "['Laptop', 'Headset', 'Second Monitor', 'Mousepad', 'External Drive', 'USB Drive']\n"
     ]
    }
   ],
   "source": [
    "#Print the list\n",
    "print(item_list)"
   ]
  },
  {
   "cell_type": "markdown",
   "metadata": {
    "id": "5keEWjCyp-D2"
   },
   "source": [
    "#### What is mandatory and what is optional?\n",
    "\n",
    "📌 Use list slicing to devide your list in two list: 'mandatory_item_list' and 'optional_item_list' and print both to the screen."
   ]
  },
  {
   "cell_type": "code",
   "execution_count": 5,
   "metadata": {
    "id": "E6ewuDYZp-D2"
   },
   "outputs": [],
   "source": [
    "#Use list slicing to divide the mandatory items\n",
    "mandatory_item_list = item_list[0:3]"
   ]
  },
  {
   "cell_type": "code",
   "execution_count": 6,
   "metadata": {
    "id": "hOmkym01RGEL"
   },
   "outputs": [],
   "source": [
    "#Use list slicing to divide the optional items\n",
    "optional_item_list = item_list[3:6]"
   ]
  },
  {
   "cell_type": "code",
   "execution_count": 7,
   "metadata": {
    "id": "xsVv1_msVE1_"
   },
   "outputs": [
    {
     "name": "stdout",
     "output_type": "stream",
     "text": [
      "['Laptop', 'Headset', 'Second Monitor']\n",
      "['Mousepad', 'External Drive', 'USB Drive']\n"
     ]
    }
   ],
   "source": [
    "#Print both to the screen\n",
    "print(mandatory_item_list)\n",
    "print(optional_item_list)"
   ]
  },
  {
   "cell_type": "markdown",
   "metadata": {
    "id": "s_M1Q93wp-D3"
   },
   "source": [
    "#### Go Shopping\n",
    "Next, you will have to go and purchase these items, the finance department confirmed a budget of $5000.\n",
    "\n",
    "📌 Assign 5000 to a variable called limit, so you know how much you can spend."
   ]
  },
  {
   "cell_type": "code",
   "execution_count": 8,
   "metadata": {
    "id": "nCmpm0oqp-D3"
   },
   "outputs": [],
   "source": [
    "#Assign the spending limit value to a variable called limit\n",
    "limit = 5000"
   ]
  },
  {
   "cell_type": "markdown",
   "metadata": {
    "id": "VwbEEymVp-D3"
   },
   "source": [
    "#### Price dictionary\n",
    "\n",
    "Before you start shopping yo need to find the best items that you can buy within the company budget. \n",
    "\n",
    "📌 Prepare a dictionary called “price_sheet” that includes the items as keys and the prices as values.  \n",
    " "
   ]
  },
  {
   "cell_type": "code",
   "execution_count": 9,
   "metadata": {
    "id": "9o9n9Ag-p-D3"
   },
   "outputs": [],
   "source": [
    "#Create a dictionary that contains each item and its price\n",
    "\n",
    "price_sheet = {\n",
    "    \"Laptop\" : 1500, \n",
    "    \"Headset\":100, \n",
    "    \"Second Monitor\" : 200,\n",
    "    \"Mousepad\" : 50,\n",
    "    \"External Drive\" : 250,\n",
    "    \"USB Drive\" : 70\n",
    "}"
   ]
  },
  {
   "cell_type": "markdown",
   "metadata": {
    "id": "rUYivBVEBhCv"
   },
   "source": [
    "#### Shopping functions\n",
    "\n",
    "You need to define three functions that will help you during shopping.\n",
    "\n",
    "📌 First, create an empty list that  will be your shopping cart. Here you will add the items you need to purchase.\n",
    "\n",
    "1. Define a function for both adding items to the cart and removing them from the item_list.\n",
    "\n",
    "📌 The \"add_to_cart\" function should take the item name and the quantity to buy as an argument. \n",
    "\n",
    "2. Define a function that will create an invoice. \n",
    "\n",
    "📌 The \"create_invoice\" function should calculate the taxes of each item (18%) and add it to the total amount.\n",
    "\n",
    "3. Define a function for the checkout. \n",
    "\n",
    "📌 The \"checkout\" function should subtract the total amount from the budget and print a statement to inform if the payment was successful. "
   ]
  },
  {
   "cell_type": "code",
   "execution_count": 10,
   "metadata": {
    "id": "dBNZ2ZdkGHUe"
   },
   "outputs": [],
   "source": [
    "#Initialize the cart list\n",
    "shopping_cart = []"
   ]
  },
  {
   "cell_type": "code",
   "execution_count": 11,
   "metadata": {
    "id": "HH26hHHFGKPJ"
   },
   "outputs": [],
   "source": [
    "#Define the \"add_to_cart\" function\n",
    "def add_to_cart(item, quantity):\n",
    "    shopping_cart.append((item,quantity))\n",
    "    item_list.remove(item)\n",
    "    "
   ]
  },
  {
   "cell_type": "code",
   "execution_count": 12,
   "metadata": {
    "id": "TUmNr4xVGQdm"
   },
   "outputs": [],
   "source": [
    "#Define the \"create_invoice\" function\n",
    "def create_invoice():\n",
    "    total = 0\n",
    "    for item, quantity in shopping_cart:\n",
    "        price_inc_tax = price_sheet[item] + price_sheet[item] * 0.18\n",
    "        total += price_inc_tax * quantity\n",
    "        print(f\"Item: {item}\\t\\tPrice with tax: {price_inc_tax}\\t\\tQuantity: {quantity}\")\n",
    "    print(\"Total amount is ->\",total)\n",
    "    return total\n"
   ]
  },
  {
   "cell_type": "code",
   "execution_count": 13,
   "metadata": {
    "id": "iUlKiXgMGdIk"
   },
   "outputs": [],
   "source": [
    "#Define the \"checkout\" function\n",
    "def checkout():\n",
    "    global limit\n",
    "    total_amount = create_invoice()\n",
    "    if limit == 0:\n",
    "        print(\"You don't have any budget\")\n",
    "    elif total_amount > limit:\n",
    "        print(\"The amount you have to pay is above the spending limit. You have to drop some items.\")\n",
    "    else:\n",
    "        limit -= total_amount\n",
    "        print(f\"Your updated budget: {limit}\")"
   ]
  },
  {
   "cell_type": "markdown",
   "metadata": {
    "id": "2IFUlu0yB0In"
   },
   "source": [
    "Let's shop!"
   ]
  },
  {
   "cell_type": "code",
   "execution_count": 14,
   "metadata": {
    "id": "FDO7CRJTWPg7"
   },
   "outputs": [
    {
     "name": "stdout",
     "output_type": "stream",
     "text": [
      "Item: Laptop\t\tPrice with tax: 1770.0\t\tQuantity: 1\n",
      "Item: Headset\t\tPrice with tax: 118.0\t\tQuantity: 3\n",
      "Item: Second Monitor\t\tPrice with tax: 236.0\t\tQuantity: 2\n",
      "Item: Mousepad\t\tPrice with tax: 59.0\t\tQuantity: 2\n",
      "Item: USB Drive\t\tPrice with tax: 82.6\t\tQuantity: 1\n",
      "Item: External Drive\t\tPrice with tax: 295.0\t\tQuantity: 1\n",
      "Total amount is -> 3091.6\n",
      "Your updated budget: 1908.4\n"
     ]
    }
   ],
   "source": [
    "#Call the \"add_to_cart\" function for each item\n",
    " \n",
    "#Add first item to cart\n",
    "add_to_cart(\"Laptop\", 1)\n",
    " \n",
    "#Add second item to cart\n",
    "add_to_cart(\"Headset\", 3)\n",
    " \n",
    "#Add third item to cart\n",
    "add_to_cart(\"Second Monitor\", 2)\n",
    " \n",
    "#Add fourth item to cart\n",
    "add_to_cart(\"Mousepad\", 2)\n",
    " \n",
    "#Add fifth item to cart\n",
    "add_to_cart(\"USB Drive\", 1)\n",
    " \n",
    "#Add last item to cart\n",
    "add_to_cart(\"External Drive\", 1)\n",
    " \n",
    "#Call the create \"checkout\" function to pay for all your items\n",
    "checkout()\n"
   ]
  },
  {
   "cell_type": "markdown",
   "metadata": {
    "id": "jdrYN0Xgp-D6"
   },
   "source": [
    "# Your first task \n",
    "\n",
    "Rachel asks you to write a program to track the name and revenue each employee brings.  \n",
    "\n",
    "* Create the \"salesperson_revenue\" dictionary to see the employee name as a key and the revenue as a value.\n",
    "\n",
    "  📌 Every employee starts with 0 revenue.\n",
    "* Define the \"enter_revenue\" function. \n",
    "\n",
    "  📌 The function takes the name and revenue as an argument and updates the salesperson_revenue dictionary.\n"
   ]
  },
  {
   "cell_type": "code",
   "execution_count": 15,
   "metadata": {
    "id": "3vzRo7hyMRv2"
   },
   "outputs": [],
   "source": [
    "#Create salesperson_revenue dictionary\n",
    "salesperson_revenue = {\n",
    "    'Ayben' : 0,\n",
    "    'Atakan' : 0,\n",
    "    'Emre' : 0,\n",
    "    'Semih' : 0,\n",
    "    'Omer' : 0,\n",
    "    'Ben' : 0,\n",
    "    'Karen' : 0,\n",
    "    'Celine' : 0\n",
    "}\n"
   ]
  },
  {
   "cell_type": "code",
   "execution_count": 16,
   "metadata": {
    "id": "m-8IozBwMRzM"
   },
   "outputs": [],
   "source": [
    "#Define enter_revenue function\n",
    "def enter_revenue(name, revenue):\n",
    "    global salesperson_revenue\n",
    "    salesperson_revenue[name] = revenue\n"
   ]
  },
  {
   "cell_type": "markdown",
   "metadata": {
    "id": "UnTGSoNTi58u"
   },
   "source": [
    "#### Try out the functions\n",
    "* In a while loop ask the user to give the name of the employee and for the revenue \n",
    "\n",
    "  📌 If the user enters “quit” the loop should break.\n",
    "\n",
    "After that, print out the salesperson_revenue dictionary.\n"
   ]
  },
  {
   "cell_type": "code",
   "execution_count": null,
   "metadata": {
    "id": "2E549VvFXNi6"
   },
   "outputs": [],
   "source": [
    "#Asking user employee name as input\n",
    "while True:\n",
    "    name = input(\"Employee name (to quit, enter 'quit'): \")\n",
    "    if name == 'quit':\n",
    "        break\n",
    "    else:\n",
    "        revenue = int(input(\"Revenue: \"))\n",
    "        enter_revenue(name,revenue)\n",
    "        print(f\"{name}'s new revenue is: {salesperson_revenue[name]}\")"
   ]
  },
  {
   "cell_type": "code",
   "execution_count": null,
   "metadata": {
    "id": "OAvl9rgOXPe6"
   },
   "outputs": [],
   "source": [
    "#Print the salesperson_revenue dictionary\n",
    "print(salesperson_revenue)"
   ]
  }
 ],
 "metadata": {
  "colab": {
   "collapsed_sections": [],
   "name": "Guided_project_1.ipynb",
   "provenance": []
  },
  "interpreter": {
   "hash": "c5914ae3790566b9cd0e984a9bdda42a29da8adf046b5ac0173e0d37aacf3dab"
  },
  "kernelspec": {
   "display_name": "Python 3 (ipykernel)",
   "language": "python",
   "name": "python3"
  },
  "language_info": {
   "codemirror_mode": {
    "name": "ipython",
    "version": 3
   },
   "file_extension": ".py",
   "mimetype": "text/x-python",
   "name": "python",
   "nbconvert_exporter": "python",
   "pygments_lexer": "ipython3",
   "version": "3.9.12"
  }
 },
 "nbformat": 4,
 "nbformat_minor": 1
}
